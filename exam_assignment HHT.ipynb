{
 "cells": [
  {
   "cell_type": "markdown",
   "metadata": {},
   "source": [
    "# ECON 3127/4414/8014"
   ]
  },
  {
   "cell_type": "markdown",
   "metadata": {},
   "source": [
    "# Final exam"
   ]
  },
  {
   "cell_type": "markdown",
   "metadata": {},
   "source": [
    "## Instructions:\n",
    "\n",
    "- Complete the tasks listed in this Jupyter notebook by answering questions and writing the code in the provided editable cells  \n",
    "- If you find a mistake (incompleteness) in the question, you may interpret it to your advantage, but have to explain your interpretation  \n",
    "- Each task has a number of points associated with it, the complete exam assignment has 100 points  \n",
    "- The grade is the total number of points earned  \n",
    "- Started but not completed tasks, as well as task completed with errors earn partial points  \n",
    "- **Make sure to commit your work to Git and push the changes to GitHub for grading** (unless you have arranged an alternative ways to submit your exam)  \n",
    "- You have **180 minutes to compete the exam**  \n",
    "- The submission time of your exam is read from the time stamp of your commit/push, the last commit before the deadline is graded  "
   ]
  },
  {
   "cell_type": "markdown",
   "metadata": {
    "deletable": false,
    "editable": false,
    "tag": "58fd14bed8f0f77b5cfb73cfdd4640b5"
   },
   "source": [
    "### Question A.01 (2 points)\n",
    "\n",
    "List 5 items from the list known as *scientific stack* in Python."
   ]
  },
  {
   "cell_type": "markdown",
   "metadata": {},
   "source": [
    "**Answer:**"
   ]
  },
  {
   "cell_type": "code",
   "execution_count": 20,
   "metadata": {},
   "outputs": [],
   "source": [
    "stack = [1, 2, 3, 4, 5]"
   ]
  },
  {
   "cell_type": "markdown",
   "metadata": {
    "deletable": false,
    "editable": false,
    "tag": "18338d5138cd075a719347b198551040"
   },
   "source": [
    "### Question A.02 (2 points)\n",
    "\n",
    "Describe the purpose of `else` clause in `for` loop construction in Python."
   ]
  },
  {
   "cell_type": "markdown",
   "metadata": {},
   "source": [
    "**Answer:**"
   ]
  },
  {
   "cell_type": "code",
   "execution_count": null,
   "metadata": {},
   "outputs": [],
   "source": [
    "# After the loop construction,the else clause executes. This means that the loop did not encounter a break statement."
   ]
  },
  {
   "cell_type": "markdown",
   "metadata": {
    "deletable": false,
    "editable": false,
    "tag": "61076fbf922823617901cf0f4143deed"
   },
   "source": [
    "### Question A.03 (2 points)\n",
    "\n",
    "Briefly explain the difference between Python class and Python module."
   ]
  },
  {
   "cell_type": "markdown",
   "metadata": {},
   "source": [
    "**Answer:**"
   ]
  },
  {
   "cell_type": "code",
   "execution_count": null,
   "metadata": {},
   "outputs": [],
   "source": [
    "# The concept of Python class appears in many languages and is easy to understand. It encapsulates data and operations for future reuse. \n",
    "# A module in Python can be understood as corresponding to a file. After creating a script file, certain functions and variables are defined. \n",
    "# You can reuse these functions and variables by importing the module into other files that require them."
   ]
  },
  {
   "cell_type": "markdown",
   "metadata": {
    "deletable": false,
    "editable": false,
    "tag": "471ab049b472d03fc2f727da4ebfb044"
   },
   "source": [
    "### Question A.04 (2 points)\n",
    "\n",
    "Explain the meaning and purpose of operator `pass` in Python."
   ]
  },
  {
   "cell_type": "markdown",
   "metadata": {},
   "source": [
    "**Answer:**"
   ]
  },
  {
   "cell_type": "code",
   "execution_count": null,
   "metadata": {},
   "outputs": [],
   "source": []
  },
  {
   "cell_type": "markdown",
   "metadata": {
    "deletable": false,
    "editable": false,
    "tag": "6ea99a90df3edc6b37710e2a28dbe449"
   },
   "source": [
    "### Question A.05 (2 points)\n",
    "\n",
    "What version of the code below would run faster? Why?"
   ]
  },
  {
   "cell_type": "code",
   "execution_count": null,
   "metadata": {
    "hide-output": false
   },
   "outputs": [],
   "source": [
    "# Version A\n",
    "a = []\n",
    "for i in range(20):\n",
    "    a.append(2**i)\n",
    "b = sum(a)/20\n",
    "print(b)\n",
    "\n",
    "#Version B\n",
    "import numpy as np\n",
    "c = np.arange(20)\n",
    "c = 2**c\n",
    "d = c.mean()\n",
    "print(d)"
   ]
  },
  {
   "cell_type": "markdown",
   "metadata": {},
   "source": [
    "**Answer:**"
   ]
  },
  {
   "cell_type": "code",
   "execution_count": null,
   "metadata": {},
   "outputs": [],
   "source": [
    "Version B would run faster.\n",
    "Because numpy matrix operations are parallel computation."
   ]
  },
  {
   "cell_type": "markdown",
   "metadata": {
    "deletable": false,
    "editable": false,
    "tag": "2c6f59bdd7ad157d0d9f3489713b6b82"
   },
   "source": [
    "### Question A.06 (2 points)\n",
    "\n",
    "List 5 different methods/types of `matplotlib` plots."
   ]
  },
  {
   "cell_type": "markdown",
   "metadata": {},
   "source": [
    "**Answer:**"
   ]
  },
  {
   "cell_type": "code",
   "execution_count": null,
   "metadata": {},
   "outputs": [],
   "source": [
    "# Histogram PLot\n",
    "# Bar Chart Plot\n",
    "# Line Plot\n",
    "# Pie Plot\n",
    "# Scatter Plot"
   ]
  },
  {
   "cell_type": "markdown",
   "metadata": {
    "deletable": false,
    "editable": false,
    "tag": "f9ef3c5b7f73210154aaf41878f3c78e"
   },
   "source": [
    "### Question A.07 (2 points)\n",
    "\n",
    "Describe the purpose of the following standard methods for Python: `__len__()`"
   ]
  },
  {
   "cell_type": "markdown",
   "metadata": {},
   "source": [
    "**Answer:**"
   ]
  },
  {
   "cell_type": "code",
   "execution_count": null,
   "metadata": {},
   "outputs": [],
   "source": []
  },
  {
   "cell_type": "markdown",
   "metadata": {
    "deletable": false,
    "editable": false,
    "tag": "4230352b8ae8340ce393fbec3b7fde14"
   },
   "source": [
    "### Question B.01 (3 points)\n",
    "\n",
    "What are the data types of the variables in the code below?"
   ]
  },
  {
   "cell_type": "code",
   "execution_count": 1,
   "metadata": {
    "hide-output": false
   },
   "outputs": [],
   "source": [
    "a = 20\n",
    "b = 91\n",
    "c = a+b\n",
    "d = a**b\n",
    "e = b%a\n",
    "f = a/b"
   ]
  },
  {
   "cell_type": "markdown",
   "metadata": {},
   "source": [
    "**Answer:**"
   ]
  },
  {
   "cell_type": "code",
   "execution_count": 12,
   "metadata": {},
   "outputs": [],
   "source": [
    "#<class 'int'>\n",
    "#<class 'int'>\n",
    "#<class 'int'>\n",
    "#<class 'int'>\n",
    "#<class 'int'>\n",
    "#<class 'float'>"
   ]
  },
  {
   "cell_type": "markdown",
   "metadata": {
    "deletable": false,
    "editable": false,
    "tag": "17dacc03cc92712ac75f9a243da17b9e"
   },
   "source": [
    "### Question B.02 (3 points)\n",
    "\n",
    "What is broadcasting in NumPy and why is it useful? Write a short code\n",
    "to demonstrate this concept."
   ]
  },
  {
   "cell_type": "code",
   "execution_count": 3,
   "metadata": {
    "hide-output": false
   },
   "outputs": [
    {
     "name": "stdout",
     "output_type": "stream",
     "text": [
      "[[[ 0  2]\n",
      "  [ 4  6]]\n",
      "\n",
      " [[ 4  6]\n",
      "  [ 8 10]]\n",
      "\n",
      " [[ 8 10]\n",
      "  [12 14]]]\n",
      "[[[ 0  2]\n",
      "  [ 2  4]]\n",
      "\n",
      " [[ 4  6]\n",
      "  [ 6  8]]\n",
      "\n",
      " [[ 8 10]\n",
      "  [10 12]]]\n"
     ]
    }
   ],
   "source": [
    "# Answer and code here\n",
    "\n",
    "# When broadcast arrays are executed,if the two arrays have different shapes,the \"short\"array will be broadcast first,adding high dimensional broadcasting. \n",
    "# For example,a 2-dimensional array can be a 3-dimensional array with the size of 1.\n",
    "\n",
    "import numpy as np\n",
    "\n",
    "a=np.arange(12)\n",
    "b=a.reshape(3,2,2)\n",
    "\n",
    "c=np.arange(4)\n",
    "d=c.reshape(2,2)\n",
    "\n",
    "e=np.arange(2)\n",
    "\n",
    "print(d+b)\n",
    "\n",
    "print(e+b)"
   ]
  },
  {
   "cell_type": "markdown",
   "metadata": {
    "deletable": false,
    "editable": false,
    "tag": "663918459e8077fc9d0e4864d32161b7"
   },
   "source": [
    "### Question B.03 (3 points)\n",
    "\n",
    "How many dots does the code below print?\n",
    "Find the answer (analytic formula) for every value of constant $ N $."
   ]
  },
  {
   "cell_type": "code",
   "execution_count": null,
   "metadata": {
    "hide-output": false
   },
   "outputs": [],
   "source": [
    "def dots(N):\n",
    "    '''Print some number of dots'''\n",
    "    for i in range(N):\n",
    "        for j in range(i):\n",
    "            for k in range(i*j+5):\n",
    "                if (k+1)%4==0: break\n",
    "                print('.',end='')"
   ]
  },
  {
   "cell_type": "markdown",
   "metadata": {},
   "source": [
    "**Answer:**"
   ]
  },
  {
   "cell_type": "code",
   "execution_count": 10,
   "metadata": {},
   "outputs": [
    {
     "name": "stdout",
     "output_type": "stream",
     "text": [
      "135\n"
     ]
    }
   ],
   "source": [
    "N=10\n",
    "if N>2:\n",
    "  sum=int(3*(N-1)*N/2)\n",
    "print(sum)\n"
   ]
  },
  {
   "cell_type": "markdown",
   "metadata": {
    "deletable": false,
    "editable": false,
    "tag": "2b8375e29cef8cf43bfed859db388d43"
   },
   "source": [
    "### Question B.04 (3 points)\n",
    "\n",
    "List 3 different solution methods for a dynamic cake eating problem given by\n",
    "the Bellman equation\n",
    "\n",
    "$$\n",
    "V(W_{t})=\n",
    "\\begin{cases}\n",
    "\\max_{0 \\le c_{t} \\le W_t}\\big\\{u(c_{t})+\\beta V(W_{t}-c_{t})\\big\\}, t<T \\\\\n",
    "\\max_{0 \\le c_{T} \\le W_T}\\big\\{u(c_{T})\\big\\}, t=T\n",
    "\\end{cases}\n",
    "$$\n",
    "\n",
    "What is the most and the least accurate solution method on your list?"
   ]
  },
  {
   "cell_type": "markdown",
   "metadata": {},
   "source": [
    "**Answer:**"
   ]
  },
  {
   "cell_type": "code",
   "execution_count": null,
   "metadata": {},
   "outputs": [],
   "source": [
    "# Guess method,iteration method,policy function method."
   ]
  },
  {
   "cell_type": "markdown",
   "metadata": {
    "deletable": false,
    "editable": false,
    "tag": "2e3c2313a06a7e72e6365baf0ee31522"
   },
   "source": [
    "### Question B.05 (3 points)\n",
    "\n",
    "Rank the following algorithms in the order of their complexity:\n",
    "\n",
    "- Finding maximum element of a vector  \n",
    "- Parity of a number  \n",
    "- Enumeration of integer compositions  \n",
    "- Binary search algorithm  "
   ]
  },
  {
   "cell_type": "markdown",
   "metadata": {},
   "source": [
    "**Answer:**"
   ]
  },
  {
   "cell_type": "code",
   "execution_count": null,
   "metadata": {},
   "outputs": [],
   "source": [
    "# Binary search algorithm > Finding maximum element of a vector > Enumeration of integer compositions > Parity of a number"
   ]
  },
  {
   "cell_type": "markdown",
   "metadata": {
    "deletable": false,
    "editable": false,
    "tag": "835b814a164d01943c2ba43ec1b198f7"
   },
   "source": [
    "### Question B.06 (3 points)\n",
    "\n",
    "You are given a task of illustrating all outcomes in a dynamic game\n",
    "with plethora of equilibria.  Each equilibrium is characterized by\n",
    "the expected payoff to each of three competitors, has a continuous\n",
    "measure of efficiency, and belongs to one of finite number of types.\n",
    "\n",
    "Suggest a plotting scheme to visualize this data."
   ]
  },
  {
   "cell_type": "markdown",
   "metadata": {},
   "source": [
    "**Answer:**"
   ]
  },
  {
   "cell_type": "code",
   "execution_count": null,
   "metadata": {},
   "outputs": [],
   "source": []
  },
  {
   "cell_type": "markdown",
   "metadata": {
    "deletable": false,
    "editable": false,
    "tag": "69018992223c92222f18451f15d88f34"
   },
   "source": [
    "### Question B.07 (3 points)\n",
    "\n",
    "Describe the main difficulties of Newton-Raphson root finding method,\n",
    "including what defines the limits to the size (dimensionality) of the problem which it can solve."
   ]
  },
  {
   "cell_type": "markdown",
   "metadata": {},
   "source": [
    "**Answer:**"
   ]
  },
  {
   "cell_type": "code",
   "execution_count": null,
   "metadata": {},
   "outputs": [],
   "source": [
    "# In Newton iteration method,selecting the appropriate initial value of iteration is the premise of solution. \n",
    "# Iteration can only converge when the initial value of iteration is near a certain root, and sometimes jumping from one root to another occurs,especially when the derivative value is very small."
   ]
  },
  {
   "cell_type": "markdown",
   "metadata": {
    "deletable": false,
    "editable": false,
    "tag": "926a7fecafa2aba9b20bcaf2768ec8fa"
   },
   "source": [
    "### Question C.01 (5 points)\n",
    "\n",
    "Using the latest version of the `deaton` class, write a short code to compare the accuracy of solution of the consumption-savings model using the following solution methods:\n",
    "\n",
    "- VFI with solution “on the grid”  \n",
    "- VFI with discretized choice (number of point on choice grid = 10* number of point on state grid)  \n",
    "- EGM  \n",
    "\n",
    "\n",
    "Print the table of accuracy measures after solving the model with number of grid points in the state equal to 100,500, 1000, 5000, and 10000."
   ]
  },
  {
   "cell_type": "code",
   "execution_count": null,
   "metadata": {
    "hide-output": false
   },
   "outputs": [],
   "source": [
    "# Write your code here"
   ]
  },
  {
   "cell_type": "markdown",
   "metadata": {
    "deletable": false,
    "editable": false,
    "tag": "deb24e7951a8ead623c87c9844589130"
   },
   "source": [
    "### Question C.02 (5 points)\n",
    "\n",
    "Examine the `class foo()` code below: there is a bug that has to be identified and fixed.\n",
    "Describe what the bug is, and correct it."
   ]
  },
  {
   "cell_type": "code",
   "execution_count": 22,
   "metadata": {
    "hide-output": false
   },
   "outputs": [
    {
     "name": "stdout",
     "output_type": "stream",
     "text": [
      "foo object with a=0.456 and b=hello world\n"
     ]
    }
   ],
   "source": [
    "import numpy as np\n",
    "class foo():\n",
    "    '''Example class'''\n",
    "\n",
    "    def __init__(self):\n",
    "        '''Initializer for the class'''\n",
    "        self.a = 0.456\n",
    "        self.b = 'string attribute'\n",
    "\n",
    "    def __repr__(self):\n",
    "        return f'foo object with a={self.a} and b={self.b}'\n",
    "\n",
    "    @property\n",
    "    def a(self):\n",
    "        '''Property getter'''\n",
    "        return self.__a\n",
    "\n",
    "    @property\n",
    "    def b(self):\n",
    "        '''Property getter'''\n",
    "        return self.__b\n",
    "\n",
    "    @a.setter\n",
    "    def a(self,val):\n",
    "        '''Property setter'''\n",
    "        self.__a = val\n",
    "\n",
    "    @b.setter\n",
    "    #variable setter is incorrect\n",
    "    #@a should be @b\n",
    "    def b(self,val):\n",
    "        '''Property setter'''\n",
    "        self.__b = val\n",
    "\n",
    "f = foo()\n",
    "f.b = 'hello world'\n",
    "print(f)"
   ]
  },
  {
   "cell_type": "markdown",
   "metadata": {
    "deletable": false,
    "editable": false,
    "tag": "f27731dd7cda7ae5af760916b3abf2a7"
   },
   "source": [
    "### Question C.03 (5 points)\n",
    "\n",
    "Using Pandas, download data on alcohol consumption from the address below, and\n",
    "find answers to the following questions:\n",
    "\n",
    "- Which continent drinks more beer on average?  \n",
    "- What is the mean total alcohol consumption per continent?  \n",
    "- What are the mean, standard deviation and quartiles of wine consumption by continent?  \n",
    "\n",
    "\n",
    "[https://raw.githubusercontent.com/justmarkham/DAT8/master/data/drinks.csv](https://raw.githubusercontent.com/justmarkham/DAT8/master/data/drinks.csv)"
   ]
  },
  {
   "cell_type": "code",
   "execution_count": 31,
   "metadata": {
    "hide-output": false
   },
   "outputs": [
    {
     "name": "stdout",
     "output_type": "stream",
     "text": [
      "EU\n",
      "AS 2.170454545454545\n",
      "EU 8.617777777777775\n",
      "AF 3.0075471698113208\n",
      "NA nan\n",
      "SA 6.308333333333334\n",
      "OC 3.3812499999999996\n",
      "AS 9.068181818181818 21.419402554346 [0. 1. 8.]\n",
      "EU 142.22222222222223 96.33319236180894 [ 59. 128. 195.]\n",
      "AF 16.264150943396228 38.47819816094648 [ 1.  2. 13.]\n"
     ]
    }
   ],
   "source": [
    "# Write your code here\n",
    "import pandas as pd\n",
    "import numpy as np\n",
    "import math\n",
    "\n",
    "data=pd.read_csv(\"https://raw.githubusercontent.com/justmarkham/DAT8/master/data/drinks.csv\")\n",
    "data=data.values\n",
    "\n",
    "cont=['AS','EU','AF','NA','SA','OC']\n",
    "AS1=[]\n",
    "EU1=[]\n",
    "AF1=[]\n",
    "NA1=[]\n",
    "SA1=[]\n",
    "OC1=[]\n",
    "\n",
    "AS2=[]\n",
    "EU2=[]\n",
    "AF2=[]\n",
    "NA2=[]\n",
    "SA2=[]\n",
    "OC2=[]\n",
    "\n",
    "AS3=[]\n",
    "EU3=[]\n",
    "AF3=[]\n",
    "NA3=[]\n",
    "SA3=[]\n",
    "OC3=[]\n",
    "\n",
    "for i in range(len(data)):\n",
    "    if data[i][5]=='AS':\n",
    "        AS1.append(data[i][1])\n",
    "        AS2.append(data[i][4])\n",
    "        AS3.append(data[i][3])\n",
    "    if data[i][5]=='EU':\n",
    "        EU1.append(data[i][1])\n",
    "        EU2.append(data[i][4])\n",
    "        EU3.append(data[i][3])\n",
    "    if data[i][5]=='AF':\n",
    "        AF1.append(data[i][1])\n",
    "        AF2.append(data[i][4])\n",
    "        AF3.append(data[i][3])\n",
    "    if data[i][5]=='NA':\n",
    "        NA1.append(data[i][1])\n",
    "        NA2.append(data[i][4])\n",
    "        NA3.append(data[i][3])\n",
    "    if data[i][5]=='SA':\n",
    "        SA1.append(data[i][1])\n",
    "        SA2.append(data[i][4])\n",
    "        SA3.append(data[i][3])\n",
    "    if data[i][5]=='OC':\n",
    "        OC1.append(data[i][1])\n",
    "        OC2.append(data[i][4])\n",
    "        OC3.append(data[i][3])\n",
    "\n",
    "\n",
    "AS1=np.array(AS1)\n",
    "EU1=np.array(EU1)\n",
    "AF1=np.array(AF1)\n",
    "NA1=np.array(NA1)\n",
    "SA1=np.array(SA1)\n",
    "OC1=np.array(OC1)\n",
    "\n",
    "as1mean=np.mean(AS1)\n",
    "eu1mean=np.mean(EU1)\n",
    "af1mean=np.mean(AF1)\n",
    "na1mean=np.mean(NA1)\n",
    "sa1mean=np.mean(SA1)\n",
    "oc1mean=np.mean(OC1)\n",
    "\n",
    "mean=[]\n",
    "mean.append(as1mean)\n",
    "mean.append(eu1mean)\n",
    "mean.append(af1mean)\n",
    "mean.append(na1mean)\n",
    "mean.append(sa1mean)\n",
    "mean.append(oc1mean)\n",
    "\n",
    "index=mean.index(max(mean))\n",
    "print(cont[index])\n",
    "\n",
    "\n",
    "AS2=np.array(AS2)\n",
    "EU2=np.array(EU2)\n",
    "AF2=np.array(AF2)\n",
    "NA2=np.array(NA2)\n",
    "SA2=np.array(SA2)\n",
    "OC2=np.array(OC2)\n",
    "\n",
    "print(cont[0],np.mean(AS2))\n",
    "print(cont[1], np.mean(EU2))\n",
    "print(cont[2], np.mean(AF2))\n",
    "print(cont[3], np.mean(NA2))\n",
    "print(cont[4], np.mean(SA2))\n",
    "print(cont[5], np.mean(OC2))\n",
    "\n",
    "AS3=np.array(AS3)\n",
    "EU3=np.array(EU3)\n",
    "AF3=np.array(AF3)\n",
    "NA3=np.array(NA3)\n",
    "SA3=np.array(SA3)\n",
    "OC3=np.array(OC3)\n",
    "\n",
    "print(cont[0],np.mean(AS3),np.std(AS3),np.percentile(AS3, [25, 50, 75]))\n",
    "print(cont[1], np.mean(EU3),np.std(EU3),np.percentile(EU3, [25, 50, 75]))\n",
    "print(cont[2], np.mean(AF3),np.std(AF3),np.percentile(AF3, [25, 50, 75]))"
   ]
  },
  {
   "cell_type": "markdown",
   "metadata": {
    "deletable": false,
    "editable": false,
    "tag": "a8cded75c915c3c2c5c27f429bd26fbb"
   },
   "source": [
    "### Question C.04 (5 points)\n",
    "\n",
    "Write a list comprehension expression to produce all combinations\n",
    "of two letters of English alphabet, but excluding combinations of\n",
    "the same letters.  Thus, from “ab” to “zy”.\n",
    "How many combination are generated?\n",
    "\n",
    "Hint: use function *chr()* to produce a character from an ASCII code (see code table here [https://www.sciencebuddies.org/science-fair-projects/references/ascii-table](https://www.sciencebuddies.org/science-fair-projects/references/ascii-table))"
   ]
  },
  {
   "cell_type": "code",
   "execution_count": null,
   "metadata": {
    "hide-output": false
   },
   "outputs": [],
   "source": [
    "# Write your code here"
   ]
  },
  {
   "cell_type": "markdown",
   "metadata": {
    "deletable": false,
    "editable": false,
    "tag": "ba050d64ecc1e1a0f9e52f851491ee88"
   },
   "source": [
    "### Question C.05 (5 points)\n",
    "\n",
    "Debug the code below to demonstrate the 3-dim array operations.  The intension is to have:\n",
    "\n",
    "- states in dimension one (axis=0)  \n",
    "- choices in dimension two (axis=1)  \n",
    "- quadrature points in dimension three (axis=2)  \n",
    "\n",
    "\n",
    "The function should compute the maximum over choices, after computing the expectation for each choice separately."
   ]
  },
  {
   "cell_type": "code",
   "execution_count": 27,
   "metadata": {
    "hide-output": false,
    "scrolled": true
   },
   "outputs": [
    {
     "name": "stdout",
     "output_type": "stream",
     "text": [
      "1.887291127\n"
     ]
    }
   ],
   "source": [
    "import numpy as np\n",
    "states = np.array([1,2,3])\n",
    "choices = np.array([0.5,1.5,1.6])\n",
    "quadpoints = np.array([-0.7746,0,0.7746])\n",
    "quadweights = np.array([0.55555,0.8889,0.55555])\n",
    "V = (states - choices)*(1+quadpoints)  # value\n",
    "EV = np.dot(quadweights,V)             # expected value\n",
    "mV = np.amax(EV,axis=0)                # optimal value\n",
    "print(mV)"
   ]
  },
  {
   "cell_type": "markdown",
   "metadata": {
    "deletable": false,
    "editable": false,
    "tag": "1115576b236c53a901c8062af5842815"
   },
   "source": [
    "### Question D.01 (10 points)\n",
    "\n",
    "Solve Rust engine replacement model for a grid of replacement costs ranging between 2 and 15 and $ \\beta = 0.99 $.\n",
    "For each solution plot the optimal probability of replacing the engine as a function of mileage bin (policy function).\n",
    "\n",
    "From the collection of optimal choice probabilities compute a demand curve for engines using the following steps (for each value of $ RC $)\n",
    "\n",
    "- compute the transition probability matrix for the mileage using the optimal replacement policy (this requires combining the mileage transition probability matrix with the probabilities of replacement at each mileage level)  \n",
    "- assume that if the bus reaches the maximum mileage, the engine is replaced with certainty  \n",
    "- compute the stationary distribution of mileage under the optimal replacement policy  \n",
    "- compute the fraction of bus fleet in the stationary distribution which have their engines replaced under the optimal policy (integrate the probability to replace over the stationary distribution of mileage)  \n",
    "\n",
    "\n",
    "Afterwards, plot the demand curve, namely the fraction of bus fleet which engine is to be replaced for at different levels of replacement cost."
   ]
  },
  {
   "cell_type": "code",
   "execution_count": null,
   "metadata": {
    "hide-output": false
   },
   "outputs": [],
   "source": [
    "# Write code here"
   ]
  },
  {
   "cell_type": "markdown",
   "metadata": {
    "deletable": false,
    "editable": false,
    "tag": "233d6897c482146d9b3be419db6e5600"
   },
   "source": [
    "### Question D.02 (10 points)\n",
    "\n",
    "Modify the MSM estimation exercise in lecture 45 to include two additional moments of wealth distribution, skewness and kurtosis.  How do the results change?"
   ]
  },
  {
   "cell_type": "code",
   "execution_count": null,
   "metadata": {
    "hide-output": false
   },
   "outputs": [],
   "source": [
    "# Write code here"
   ]
  },
  {
   "cell_type": "markdown",
   "metadata": {
    "deletable": false,
    "editable": false,
    "tag": "c6f0ea3937be04ca75e997394e329556"
   },
   "source": [
    "### Question D.03 (10 points)\n",
    "\n",
    "Work with the latest version of the `deaton` class. Consider the three solution methods:\n",
    "\n",
    "- VFI with discretized choices  \n",
    "- VFI with continuous choices  \n",
    "- Time iterations  \n",
    "- EGM  \n",
    "\n",
    "\n",
    "Choose parametrization for the test model, compute the accuracy measure for each method.\n",
    "\n",
    "Then, by changing various (technical) parameters of the model, for each of the three methods, choose one parameter that influences the accuracy of that method the most.\n",
    "\n",
    "Finally, make a plot to visualize the trade-off between accuracy and run time.  It should have run time on vertical axis and accuracy measure on the horizontal axis.  Three curves\n",
    "should correspond to the three solution methods, and should be composed on the points obtained for different settings identified as important factors influencing the accuracy for each method.\n",
    "\n",
    "Make the plot look good and be easy to read."
   ]
  },
  {
   "cell_type": "code",
   "execution_count": null,
   "metadata": {
    "hide-output": false
   },
   "outputs": [],
   "source": [
    "# Write code here"
   ]
  },
  {
   "cell_type": "markdown",
   "metadata": {
    "deletable": false,
    "editable": false,
    "tag": "58cdb0fd077add12ff38b4e71936fabc"
   },
   "source": [
    "### Question D.04 (10 points)\n",
    "\n",
    "Using the function\n",
    "\n",
    "$$\n",
    "y = \\sin(\\exp(x))\n",
    "$$\n",
    "\n",
    "write the code to compare 3 different interpolation methods of your\n",
    "choice from `scipy.interpolate` on -4,4 using 101 points for each.\n",
    "\n",
    "Then, plot the deviations between the true function and the interpolated\n",
    "function separately for the three cases, using the grid of 5001 points\n",
    "on the same interval.\n",
    "\n",
    "Which interpolation scheme performs better?"
   ]
  },
  {
   "cell_type": "code",
   "execution_count": 26,
   "metadata": {
    "hide-output": false,
    "scrolled": true
   },
   "outputs": [
    {
     "data": {
      "image/png": "[encoded data removed]",
      "text/plain": [
       "<Figure size 720x576 with 4 Axes>"
      ]
     },
     "metadata": {
      "needs_background": "light"
     },
     "output_type": "display_data"
    }
   ],
   "source": [
    "# Write your code here\n",
    "\n",
    "import numpy as np\n",
    "from scipy.interpolate import interp1d\n",
    "\n",
    "x = np.linspace(-4, 4, 101)\n",
    "y = np.sin(x)\n",
    "\n",
    "fl = interp1d(x, y, kind='linear')\n",
    "fq = interp1d(x, y, kind='quadratic')\n",
    "fc=interp1d(x, y, kind='cubic')\n",
    "\n",
    "xint = np.linspace(x.min(), x.max(), 5001)\n",
    "yintl = fl(xint)\n",
    "yintq = fq(xint)\n",
    "yintc= fc(xint)\n",
    "\n",
    "import matplotlib.pyplot as plt\n",
    "\n",
    "fig, ax = plt.subplots(2, 2, figsize=(10, 8))\n",
    "plt.subplot(221)\n",
    "plt.plot(x, y, label='raw-data', marker='o')\n",
    "plt.legend()\n",
    "\n",
    "plt.subplot(222)\n",
    "plt.scatter(xint, yintl, label='linear_interpl', marker='o')\n",
    "plt.legend()\n",
    "plt.subplot(223)\n",
    "plt.scatter(xint, yintq, label='quadratic_interpl', marker='o')\n",
    "plt.legend()\n",
    "plt.subplot(224)\n",
    "plt.scatter(xint, yintc, label='cubic_interpl', marker='o')\n",
    "plt.legend()\n",
    "plt.show()"
   ]
  },
  {
   "cell_type": "code",
   "execution_count": null,
   "metadata": {},
   "outputs": [],
   "source": []
  }
 ],
 "metadata": {
  "date": "10.11.2020 13:23:12 UTC",
  "filename": "exam26.ipynb",
  "kernelspec": {
   "display_name": "Python 3",
   "language": "python",
   "name": "python3"
  },
  "language_info": {
   "codemirror_mode": {
    "name": "ipython",
    "version": 3
   },
   "file_extension": ".py",
   "mimetype": "text/x-python",
   "name": "python",
   "nbconvert_exporter": "python",
   "pygments_lexer": "ipython3",
   "version": "3.8.3"
  },
  "tag": "3e5ce99482f719448927cded48e177cb",
  "title": "ECON 3127/4414/8014 2020"
 },
 "nbformat": 4,
 "nbformat_minor": 4
}
